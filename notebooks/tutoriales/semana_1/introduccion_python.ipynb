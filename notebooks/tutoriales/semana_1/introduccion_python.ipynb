{
 "cells": [
  {
   "cell_type": "markdown",
   "metadata": {},
   "source": [
    "# Introducción a Python\n",
    "\n",
    "\n",
    "En esta lección vamos a aprender las nociones y sintaxis básico del lenguaje de programación de Python. Para ello, y dado que el curso se llevará a cabo mediante el uso de notebooks de Jupyter, vamos a ver también en qué consisten éstos"
   ]
  },
  {
   "cell_type": "markdown",
   "metadata": {},
   "source": [
    "## Celdas\n",
    "\n",
    "Un notebook es una secuencia de 'celdas', que pueden ser:\n",
    "\n",
    "* Tipo texto (como este), que se escriben usando [Markdown syntax](http://daringfireball.net/projects/markdown/syntax) \n",
    "\n",
    "* Tipo código de ejecución, esto es, código python, `%magics`, `!system calls`, etc.\n",
    "\n",
    "Por ejemplo, aquí abajo se muestra una celda de tipo código donde se suman tres constantes:"
   ]
  },
  {
   "cell_type": "code",
   "execution_count": null,
   "metadata": {},
   "outputs": [],
   "source": [
    "1 + 2 + 3"
   ]
  },
  {
   "cell_type": "markdown",
   "metadata": {},
   "source": [
    "### Atajos de teclado\n",
    "* **`Esc+h` proporciona todos los atajos de teclado **\n",
    "* `Shift-Enter` - ejecuta una celda; \n",
    "* `Enter` añdade una linea de texto a la celda.  \n",
    "\n",
    "Cuando se usa el comando `Shift-Enter`, \n",
    "el contenido de la celda se ejecuta, se muestra el output en pantalla y se pasa a la próxima celda, o si no hay ninguna, se crea inmediatamente una después.\n",
    "\n",
    "Uno puede ejecutar una misma celda tantas veces como se quiera. Tan sólo hace falta poner el curso sobre la celda, editarla y presionar `Shift-Enter` para ejecutar.  \n",
    "\n",
    "* Para crear una nueva celda por encima de la celda actual, presionar `Esc+a`\n",
    "* Para crear una nueva celda por debajo de la celda actual, presionar `Esc+b`\n",
    "* Para eliminar la celda actual, presionar `Esc+d+d` o `Esc+x`\n",
    "* Para editar una celda, poner el cursor sobre dicha celda y presionar `Enter`\n",
    "\n",
    "La celda creada es por defecto una celda de tipo código. Para cambiarlo a tipo texto,  presionar `Esc+m` y escribir el texto: Por ejemplo, una ecuación en latex\n",
    "\n",
    "$$\n",
    "    {\\cal L}= -\\frac{1}{4} F_{\\mu\\nu} F^{\\mu\\nu}\n",
    "$$\n",
    "\n",
    "A la hora de estructurar las celdas por secciones, se puede usar el símbolo '#' para escribir las cabezeras\n",
    "\n",
    "# Heading 1\n",
    "# Heading 2\n",
    "## Heading 2.1\n",
    "## Heading 2.2\n",
    "\n",
    "Finalmente, para guardar los notebooks, se usa `Cmd+s` or `Ctrl+s`."
   ]
  },
  {
   "cell_type": "markdown",
   "metadata": {},
   "source": [
    "## Asignar valor a una variable"
   ]
  },
  {
   "cell_type": "code",
   "execution_count": null,
   "metadata": {},
   "outputs": [],
   "source": [
    "x = 10\n",
    "y = 1e-5"
   ]
  },
  {
   "cell_type": "code",
   "execution_count": null,
   "metadata": {},
   "outputs": [],
   "source": [
    "print(x)"
   ]
  },
  {
   "cell_type": "code",
   "execution_count": null,
   "metadata": {},
   "outputs": [],
   "source": [
    "#ojo con escribir lo siguiente. Estamos en python 3!\n",
    "print x"
   ]
  },
  {
   "cell_type": "markdown",
   "metadata": {},
   "source": [
    "¿Diferencias entre estas variables? La primera es de tipo int y la segunda, tipo float.\n",
    "Veámoslo"
   ]
  },
  {
   "cell_type": "code",
   "execution_count": null,
   "metadata": {},
   "outputs": [],
   "source": [
    "type(x)"
   ]
  },
  {
   "cell_type": "code",
   "execution_count": null,
   "metadata": {},
   "outputs": [],
   "source": [
    "type(y)"
   ]
  },
  {
   "cell_type": "markdown",
   "metadata": {},
   "source": [
    "## Función print"
   ]
  },
  {
   "cell_type": "code",
   "execution_count": null,
   "metadata": {},
   "outputs": [],
   "source": [
    "# print la variable definida arriba\n",
    "print(x)\n",
    "# print varios elementos usando la coma\n",
    "print((x, y, type(x), type(y)))"
   ]
  },
  {
   "cell_type": "markdown",
   "metadata": {},
   "source": [
    "## Operadores y comparaciones\n",
    "\n",
    "* Operadores aritméticos `+, -, *, /, //` (integer division), '**' power, '%' resto"
   ]
  },
  {
   "cell_type": "code",
   "execution_count": null,
   "metadata": {},
   "outputs": [],
   "source": [
    "1 + 2, 1.2 - 2.3, 1 * 2.3, 11 / 2, 11 % 2"
   ]
  },
  {
   "cell_type": "code",
   "execution_count": null,
   "metadata": {},
   "outputs": [],
   "source": [
    "# División normal vs division entera\n",
    "15 // 2, 15 / 2"
   ]
  },
  {
   "cell_type": "code",
   "execution_count": null,
   "metadata": {},
   "outputs": [],
   "source": [
    "# En python 3 no importa el tipo de las variables (sí en python 2)\n",
    "7/2, 7/2.0, 7.0/2"
   ]
  },
  {
   "cell_type": "markdown",
   "metadata": {},
   "source": [
    "* operadores de comparación >, <, >= (greater or equal), <= (less or equal), == equality, is identical."
   ]
  },
  {
   "cell_type": "code",
   "execution_count": null,
   "metadata": {},
   "outputs": [],
   "source": [
    "2 > 1, 2 < 1, 2 >= 2, 2 <= 2, 1 == 0, True == False"
   ]
  },
  {
   "cell_type": "markdown",
   "metadata": {},
   "source": [
    "## Data structures: (strings, lists, dictionaries)"
   ]
  },
  {
   "cell_type": "markdown",
   "metadata": {},
   "source": [
    "### String\n",
    "Los strings se usan para almacenar texto"
   ]
  },
  {
   "cell_type": "code",
   "execution_count": null,
   "metadata": {},
   "outputs": [],
   "source": [
    "s = \"Hello world\"\n",
    "print(s)\n",
    "print(\"el tipo de s es \" + str(type(s)))"
   ]
  },
  {
   "cell_type": "code",
   "execution_count": null,
   "metadata": {},
   "outputs": [],
   "source": [
    "# Se puede ver como un vector donde cada componente posee un elemento del string\n",
    "print(len(s))\n",
    "# Es fácil reemplazar una parte de la string por otra parte\n",
    "s2 = s.replace(\"world\", \"test\")\n",
    "print(s2)"
   ]
  },
  {
   "cell_type": "markdown",
   "metadata": {},
   "source": [
    "#### Slicing"
   ]
  },
  {
   "cell_type": "markdown",
   "metadata": {},
   "source": [
    "Al poder verse como un vector, se indexar (seleccionar elementos de la string) usando `[]`:"
   ]
  },
  {
   "cell_type": "code",
   "execution_count": null,
   "metadata": {},
   "outputs": [],
   "source": [
    "print(s[0], s[1], s[0:5], s[:5])"
   ]
  },
  {
   "cell_type": "markdown",
   "metadata": {},
   "source": [
    "Podemos cambiar también fácilmente el step size usando [start:end:step]"
   ]
  },
  {
   "cell_type": "code",
   "execution_count": null,
   "metadata": {},
   "outputs": [],
   "source": [
    "print(s[::2])\n",
    "print(s[::1])\n",
    "print(s[::-1])"
   ]
  },
  {
   "cell_type": "markdown",
   "metadata": {},
   "source": [
    "## Exercise 1\n",
    "\n",
    "Print la parte igual a **`world`**"
   ]
  },
  {
   "cell_type": "markdown",
   "metadata": {},
   "source": [
    "#### Formato"
   ]
  },
  {
   "cell_type": "code",
   "execution_count": null,
   "metadata": {},
   "outputs": [],
   "source": [
    "# dos formas de hacer print de varias strings juntas\n",
    "\n",
    "print(\"str1\", \"str2\", \"str3\")  # print concatena las strings con espacio\n",
    "print(\"str1\" + \"str2\" + \"str3\") # print concatena las strings sin espacio\n",
    "print(\"str1\", 1.0, False, -1j)  # print convierte todos los argumentos a strings"
   ]
  },
  {
   "cell_type": "code",
   "execution_count": null,
   "metadata": {},
   "outputs": [],
   "source": [
    "# Formato para crear una string con números (más tipo C con printf...)\n",
    "s2 = \"value1 = %.2f. value2 = %d\" % (3.1415, 1.5)\n",
    "print(s2)"
   ]
  },
  {
   "cell_type": "code",
   "execution_count": null,
   "metadata": {},
   "outputs": [],
   "source": [
    "# O también\n",
    "s3 = 'value1 = {0}, value2 = {1}'.format(3.1415, 1.5)\n",
    "\n",
    "print(s3)"
   ]
  },
  {
   "cell_type": "markdown",
   "metadata": {},
   "source": [
    "### List\n",
    "Las listas son parecidas a los strings, solo que sus elementos pueden ser de cualquier tipo"
   ]
  },
  {
   "cell_type": "code",
   "execution_count": null,
   "metadata": {},
   "outputs": [],
   "source": [
    "l = [1,2,3,4]\n",
    "\n",
    "print(type(l))\n",
    "print(l)"
   ]
  },
  {
   "cell_type": "code",
   "execution_count": null,
   "metadata": {},
   "outputs": [],
   "source": [
    "# Partes de la lista igual que con strings\n",
    "print(l)\n",
    "print(l[1:3])\n",
    "print(l[::2])\n",
    "\n",
    "print(\"ojo,  que en python el primer elemento empieza con el índice 0\")\n",
    "print(\"primer elemento de l = \" + str(l[0]))"
   ]
  },
  {
   "cell_type": "markdown",
   "metadata": {},
   "source": [
    "En Python, las listas puede ser nested de cualquier forma:"
   ]
  },
  {
   "cell_type": "code",
   "execution_count": null,
   "metadata": {},
   "outputs": [],
   "source": [
    "nested_list = [1, [2, [3, [4, [5]]]]]\n",
    "\n",
    "nested_list"
   ]
  },
  {
   "cell_type": "markdown",
   "metadata": {},
   "source": [
    "Función `range` para generar lista de numeros consecutivos. Útil para definir iteracciones en un loop"
   ]
  },
  {
   "cell_type": "code",
   "execution_count": null,
   "metadata": {},
   "outputs": [],
   "source": [
    "start = 10\n",
    "stop = 30\n",
    "step = 2\n",
    "\n",
    "range(start, stop, step)"
   ]
  },
  {
   "cell_type": "code",
   "execution_count": null,
   "metadata": {},
   "outputs": [],
   "source": [
    "# En python3 te genera un iterador. Se pueden ver los elementos de iteración pasándolo a una lista\n",
    "list(range(start, stop, step))"
   ]
  },
  {
   "cell_type": "code",
   "execution_count": null,
   "metadata": {},
   "outputs": [],
   "source": [
    "s = \"Hello world\"\n",
    "# converting to list\n",
    "s2 = list(s)\n",
    "print(s)"
   ]
  },
  {
   "cell_type": "code",
   "execution_count": null,
   "metadata": {},
   "outputs": [],
   "source": [
    "# sorting\n",
    "s2.sort()\n",
    "print(s2)"
   ]
  },
  {
   "cell_type": "markdown",
   "metadata": {},
   "source": [
    "####  Métodos de las listas: Ordenar, añadir, insertar, modificar y eliminnar elementos"
   ]
  },
  {
   "cell_type": "code",
   "execution_count": null,
   "metadata": {},
   "outputs": [],
   "source": [
    "l=[5,3,1,4,2]\n",
    "l.sort()\n",
    "print(l)"
   ]
  },
  {
   "cell_type": "code",
   "execution_count": null,
   "metadata": {},
   "outputs": [],
   "source": [
    "# crear una nueva lista\n",
    "l = []\n",
    "\n",
    "# añadir elementos usando  `append`\n",
    "l.append(\"A\")\n",
    "l.append(\"d\")\n",
    "l.append(\"d\")\n",
    "\n",
    "print(l)"
   ]
  },
  {
   "cell_type": "code",
   "execution_count": null,
   "metadata": {},
   "outputs": [],
   "source": [
    "# modificar algunos valores\n",
    "l[0] = 'g'\n",
    "l"
   ]
  },
  {
   "cell_type": "code",
   "execution_count": null,
   "metadata": {},
   "outputs": [],
   "source": [
    "# Insertar elemento en una posición específica\n",
    "l.insert(1, \"A\")\n",
    "print(l)"
   ]
  },
  {
   "cell_type": "code",
   "execution_count": null,
   "metadata": {},
   "outputs": [],
   "source": [
    "# Quitar elemento\n",
    "l.remove(\"A\")\n",
    "print(l)"
   ]
  },
  {
   "cell_type": "markdown",
   "metadata": {},
   "source": [
    "### Tuples\n",
    "\n",
    "Tuples son como las listas, solo que no pueden ser modificadas después de su creación\n"
   ]
  },
  {
   "cell_type": "code",
   "execution_count": null,
   "metadata": {},
   "outputs": [],
   "source": [
    "point = (10, 20, 30)\n",
    "\n",
    "print(point, type(point))"
   ]
  },
  {
   "cell_type": "code",
   "execution_count": null,
   "metadata": {},
   "outputs": [],
   "source": [
    "# Es fácil extraer el valor de cada elemento del tuple mediate la separación de comas:\n",
    "x, y, z = point\n",
    "print(x, y, z)\n",
    "\n",
    "x, y, _ = point\n",
    "print(x, y)\n",
    "\n",
    "x, _, _ = point\n",
    "print(x)"
   ]
  },
  {
   "cell_type": "code",
   "execution_count": null,
   "metadata": {},
   "outputs": [],
   "source": [
    "# Así no, dará error!\n",
    "point[0] = 14 "
   ]
  },
  {
   "cell_type": "markdown",
   "metadata": {},
   "source": [
    "### Diccionarios\n",
    "Son como listas, pero sus elementos no están ordenados y se accede a sus valores mediante un \"key\" o nombre del elemento."
   ]
  },
  {
   "cell_type": "code",
   "execution_count": null,
   "metadata": {},
   "outputs": [],
   "source": [
    "params = {\"parameter1\" : 1.0,\n",
    "          \"parameter2\" : 2.0,\n",
    "          \"parameter3\" : 3.0,}\n",
    "\n",
    "print(type(params))\n",
    "print(params)"
   ]
  },
  {
   "cell_type": "code",
   "execution_count": null,
   "metadata": {},
   "outputs": [],
   "source": [
    "# Ver el valor del elemento con nombre o key \"parameter1\"\n",
    "params['parameter1']"
   ]
  },
  {
   "cell_type": "code",
   "execution_count": null,
   "metadata": {},
   "outputs": [],
   "source": [
    "# creando un dict vacío\n",
    "params = dict()\n",
    "# Añadir una nueva entrada\n",
    "params['new'] = 100\n",
    "params['new2'] = 20\n",
    "params"
   ]
  },
  {
   "cell_type": "code",
   "execution_count": null,
   "metadata": {},
   "outputs": [],
   "source": [
    "# Para ver todos los keys en una lista\n",
    "params.keys()"
   ]
  },
  {
   "cell_type": "code",
   "execution_count": null,
   "metadata": {},
   "outputs": [],
   "source": [
    "# También se pueden ver los valores en una lista (en el mismo orden de antes para los keys)\n",
    "params.values()"
   ]
  },
  {
   "cell_type": "code",
   "execution_count": null,
   "metadata": {},
   "outputs": [],
   "source": [
    "# o para ver ambos a la vez como una lista de pares key, valor\n",
    "params.items()"
   ]
  },
  {
   "cell_type": "markdown",
   "metadata": {},
   "source": [
    "## Uso de librerías\n",
    "\n",
    "Para usar un módulo, función,etc de una librería, primmero se tiene que importar. Por ejemplo, para importar el módulo `math`, que contiene funciones matemáticas básicas hacemos:"
   ]
  },
  {
   "cell_type": "code",
   "execution_count": null,
   "metadata": {},
   "outputs": [],
   "source": [
    "import math"
   ]
  },
  {
   "cell_type": "code",
   "execution_count": null,
   "metadata": {},
   "outputs": [],
   "source": [
    "import math\n",
    "\n",
    "x = math.sin(math.pi/4.0)\n",
    "\n",
    "print(x)"
   ]
  },
  {
   "cell_type": "markdown",
   "metadata": {},
   "source": [
    "o podríamos decidir importar sólo una(s) función(es) en particular como `from \"nombre_modulo\" import \"nombre_función1\",\"nombre_función2\",...`"
   ]
  },
  {
   "cell_type": "code",
   "execution_count": null,
   "metadata": {},
   "outputs": [],
   "source": [
    "from math import pi,cos\n",
    "\n",
    "x = cos(pi/4.0)\n",
    "\n",
    "print(x)"
   ]
  },
  {
   "cell_type": "markdown",
   "metadata": {},
   "source": [
    "Cuando importamos, podemos poner el nombre que queramos a lo que importamos añadiendo \"as\" y después el nombre que le damos"
   ]
  },
  {
   "cell_type": "code",
   "execution_count": null,
   "metadata": {},
   "outputs": [],
   "source": [
    "import math as mates\n",
    "\n",
    "x = mates.cos(mates.pi/4.0)\n",
    "\n",
    "print(x)"
   ]
  },
  {
   "cell_type": "code",
   "execution_count": null,
   "metadata": {},
   "outputs": [],
   "source": [
    "from math import pi as pito\n",
    "from math import cos as cosita\n",
    "\n",
    "x = cosita(pito/4.0)\n",
    "\n",
    "print(x)"
   ]
  },
  {
   "cell_type": "markdown",
   "metadata": {},
   "source": [
    "Existe la función `help` para tener una descrición de las funciones"
   ]
  },
  {
   "cell_type": "code",
   "execution_count": null,
   "metadata": {},
   "outputs": [],
   "source": [
    "help(cos)"
   ]
  },
  {
   "cell_type": "markdown",
   "metadata": {},
   "source": [
    "## Conditionals y loops"
   ]
  },
  {
   "cell_type": "markdown",
   "metadata": {},
   "source": [
    "### if...elif...else"
   ]
  },
  {
   "cell_type": "code",
   "execution_count": null,
   "metadata": {},
   "outputs": [],
   "source": [
    "# if statement en python\n",
    "x = -15\n",
    "if x >= 10:\n",
    "    print(\"x > 10\")\n",
    "elif x < 0:\n",
    "    print (\"x < 0\")\n",
    "else:\n",
    "    print (\"value is ok\")"
   ]
  },
  {
   "cell_type": "code",
   "execution_count": null,
   "metadata": {},
   "outputs": [],
   "source": [
    "# otro ejemplo: test si la lista contiene el cero\n",
    "x = [1, 2]\n",
    "if 0 not in x:\n",
    "    # do nothing\n",
    "    pass\n",
    "else:\n",
    "    print(\"List contains zero\")"
   ]
  },
  {
   "cell_type": "markdown",
   "metadata": {},
   "source": [
    "### For statement"
   ]
  },
  {
   "cell_type": "code",
   "execution_count": null,
   "metadata": {},
   "outputs": [],
   "source": [
    "x = {'helado': 2, 'chocolate': 10, 'galletas': 5}\n",
    "print(x['helado'],x['chocolate'],x['galletas'])"
   ]
  },
  {
   "cell_type": "markdown",
   "metadata": {},
   "source": [
    "El statement `for` itera sobre los elementos de cualquier secuencia en el order en que aparecen"
   ]
  },
  {
   "cell_type": "code",
   "execution_count": null,
   "metadata": {},
   "outputs": [],
   "source": [
    "# Forma recomendada\n",
    "l=[0,1,2,3,4]\n",
    "for elem in l:\n",
    "    print(elem)"
   ]
  },
  {
   "cell_type": "code",
   "execution_count": null,
   "metadata": {},
   "outputs": [],
   "source": [
    "# Forma menos recomendada\n",
    "for i in range(len(l)):\n",
    "    print(l[i])"
   ]
  },
  {
   "cell_type": "code",
   "execution_count": null,
   "metadata": {},
   "outputs": [],
   "source": [
    "for key in x.keys():\n",
    "    print(key, x[key])"
   ]
  },
  {
   "cell_type": "markdown",
   "metadata": {},
   "source": [
    "`for` loops también puede usarse para iterar sobre varios elementos a la vez:"
   ]
  },
  {
   "cell_type": "code",
   "execution_count": null,
   "metadata": {},
   "outputs": [],
   "source": [
    "# Aquí usando el método items de los dictionarios, que te da un par key-valor\n",
    "for key, value in x.items():\n",
    "    print(key, value)"
   ]
  },
  {
   "cell_type": "code",
   "execution_count": null,
   "metadata": {},
   "outputs": [],
   "source": [
    "# El método `enumerate` es muy interesante cuando haces loops sobre listas, \n",
    "# ya que da el índice y valor\n",
    "\n",
    "l=[1,25,50,100]\n",
    "for idx, val in enumerate(l):\n",
    "    print(idx,val)"
   ]
  },
  {
   "cell_type": "code",
   "execution_count": null,
   "metadata": {},
   "outputs": [],
   "source": [
    "# for/else loop\n",
    "frutas = ['manzana', 'kiwi', 'pera']\n",
    "for fruta in frutas:\n",
    "    if fruta == 'kiwi':\n",
    "        print('kiwi encontrado!')\n",
    "        break    # sale del loop y salta el 'else'\n",
    "else:\n",
    "    # Esto sólo si el bolque no encuentra nada\n",
    "    print(\"No encuentro el kiwi\")"
   ]
  },
  {
   "cell_type": "code",
   "execution_count": null,
   "metadata": {},
   "outputs": [],
   "source": [
    "# while loop\n",
    "count = 0\n",
    "while count < 5:\n",
    "    print('Esto imprime 5 veces')\n",
    "    count += 1    # equivalente a hacer 'count = count + 1'"
   ]
  },
  {
   "cell_type": "markdown",
   "metadata": {},
   "source": [
    "## funciones\n",
    "\n",
    "Se pueden definir funciones o métodos de las siguiete forma:\n",
    "\n",
    "```python\n",
    "def <function_name>(<parameters list>):\n",
    "    # your code \n",
    "    return <results list> # not necessary\n",
    "```\n"
   ]
  },
  {
   "cell_type": "code",
   "execution_count": null,
   "metadata": {},
   "outputs": [],
   "source": [
    "def compute_power(x, y, default_value=1):\n",
    "    return default_value + (x**y)\n",
    "\n",
    "compute_power(2, 3)"
   ]
  },
  {
   "cell_type": "markdown",
   "metadata": {},
   "source": [
    "## clases y objetos\n",
    "\n",
    "Aunque esto sea más avanzado, vamos a ver un poco el concepto de clase, ya que que en scikit, (casi) todos los que algoritmos están implementados como clases y su funcionamiento es a través de objetos. \n",
    "\n",
    "objeto = Es una encapsulación de variables (también llamadas atributos) y funciones (a veces llamadas métodos).\n",
    "\n",
    "clase = Es la \"receta\" de un objeto."
   ]
  },
  {
   "cell_type": "code",
   "execution_count": null,
   "metadata": {},
   "outputs": [],
   "source": [
    "# Éste es un ejemplo de clase\n",
    "class MyClass:\n",
    "    variable = \"variable\"\n",
    "\n",
    "    def unaFunction(self): #no os preocupes por saber qué es el self este\n",
    "        print(\"Ésta es una función de dentro de la clase\")"
   ]
  },
  {
   "cell_type": "markdown",
   "metadata": {},
   "source": [
    "A partir de esta \"receta\", podemos definir un objeto de esta clase, que contiene todas las variables y métodos o funciones "
   ]
  },
  {
   "cell_type": "code",
   "execution_count": null,
   "metadata": {},
   "outputs": [],
   "source": [
    "myObject = MyClass()"
   ]
  },
  {
   "cell_type": "markdown",
   "metadata": {},
   "source": [
    "Para acceder a sus atributos y metodos, usa un '.' "
   ]
  },
  {
   "cell_type": "code",
   "execution_count": null,
   "metadata": {},
   "outputs": [],
   "source": [
    "print(myObject.variable)"
   ]
  },
  {
   "cell_type": "code",
   "execution_count": null,
   "metadata": {},
   "outputs": [],
   "source": [
    "myObject.unaFunction()"
   ]
  },
  {
   "cell_type": "markdown",
   "metadata": {},
   "source": [
    "El objeto creado, además puede cambiar sus atributos"
   ]
  },
  {
   "cell_type": "code",
   "execution_count": null,
   "metadata": {},
   "outputs": [],
   "source": [
    "myObjet2 = MyClass()\n",
    "print(myObjet2.variable)\n",
    "myObjet2.variable=\"nueva\"\n",
    "print(myObjet2.variable)"
   ]
  },
  {
   "cell_type": "markdown",
   "metadata": {},
   "source": [
    "### Ejercicio 1\n",
    "- Escribir un loop que muestre los números pares el rango $0\\leq i \\leq 100$."
   ]
  },
  {
   "cell_type": "code",
   "execution_count": null,
   "metadata": {},
   "outputs": [],
   "source": [
    "#Tu código"
   ]
  },
  {
   "cell_type": "markdown",
   "metadata": {},
   "source": [
    "### Ejercicio 2\n",
    "- Escribir la función que dada una lista de valores, devuelva $[x_0 + x_1, x_1 + x_2, ..., x_{n-1} + x_n]$"
   ]
  },
  {
   "cell_type": "code",
   "execution_count": null,
   "metadata": {},
   "outputs": [],
   "source": [
    "#Tu código"
   ]
  },
  {
   "cell_type": "markdown",
   "metadata": {},
   "source": [
    "### Ejercicio 3\n",
    "- Escribir la función que devuelva la string inversa"
   ]
  },
  {
   "cell_type": "code",
   "execution_count": null,
   "metadata": {},
   "outputs": [],
   "source": [
    "#Tu código"
   ]
  }
 ],
 "metadata": {
  "kernelspec": {
   "display_name": "Python 3",
   "language": "python",
   "name": "python3"
  },
  "language_info": {
   "codemirror_mode": {
    "name": "ipython",
    "version": 2
   },
   "file_extension": ".py",
   "mimetype": "text/x-python",
   "name": "python",
   "nbconvert_exporter": "python",
   "pygments_lexer": "ipython2",
   "version": "2.7.15"
  }
 },
 "nbformat": 4,
 "nbformat_minor": 2
}
