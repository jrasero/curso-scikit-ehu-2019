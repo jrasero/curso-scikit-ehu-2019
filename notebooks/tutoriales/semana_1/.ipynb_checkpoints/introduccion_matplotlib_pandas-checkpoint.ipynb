{
 "cells": [
  {
   "cell_type": "markdown",
   "metadata": {},
   "source": [
    "# Introducción a  Matplotlib y Pandas\n",
    "\n",
    "En esta parte del curso vamos a aprender `matplotlib`, que supone la librería estándar en python para la visualización de resultados, y `pandas`, una librería esencial para la manipulación de los datos."
   ]
  },
  {
   "cell_type": "code",
   "execution_count": null,
   "metadata": {},
   "outputs": [],
   "source": [
    "# Primero cargamos la librería numpy. Matplotlib está especialmente diseñado para trabjar con numpy arrays\n",
    "import numpy as np"
   ]
  },
  {
   "cell_type": "markdown",
   "metadata": {},
   "source": [
    "## Plotting con matplotlib"
   ]
  },
  {
   "cell_type": "code",
   "execution_count": null,
   "metadata": {},
   "outputs": [],
   "source": [
    "import matplotlib.pyplot as plt\n",
    "#Este comando de abajo muestra los plots inline\n",
    "%matplotlib inline "
   ]
  },
  {
   "cell_type": "code",
   "execution_count": null,
   "metadata": {},
   "outputs": [],
   "source": [
    "x = np.array([-3, -1.5, 0, 1, 3, 4])\n",
    "y= x ** 2 #El cuadrado de cada término\n",
    "print(x)\n",
    "print(y)"
   ]
  },
  {
   "cell_type": "code",
   "execution_count": null,
   "metadata": {},
   "outputs": [],
   "source": [
    "#Se puede plotear de manera fácil llamando a la función plot \n",
    "plt.plot(x,y);"
   ]
  },
  {
   "cell_type": "code",
   "execution_count": null,
   "metadata": {},
   "outputs": [],
   "source": [
    "distribution = np.random.normal(loc=1., scale=2, size=10000)\n",
    "plt.hist(distribution)\n",
    "pass #De esta manera se suprime suprimes el output de la última línea, como ocurre en el plot anterior"
   ]
  },
  {
   "cell_type": "code",
   "execution_count": null,
   "metadata": {},
   "outputs": [],
   "source": [
    "plt.hist(np.random.normal(loc=5., scale=2, size=10000), bins=30, alpha=0.4, density=True, label='first')\n",
    "plt.hist(np.random.normal(loc=7., scale=3, size=10000), bins=30, alpha=0.4, density=True, label='second')\n",
    "plt.hist(np.random.normal(loc=0., scale=1, size=10000), bins=30, alpha=0.4, density=True, label='third')\n",
    "plt.legend()\n",
    "pass"
   ]
  },
  {
   "cell_type": "code",
   "execution_count": null,
   "metadata": {},
   "outputs": [],
   "source": [
    "# También se puede configurar el tamaño de las figura\n",
    "plt.figure(figsize=[12, 10])\n",
    "plt.scatter(np.random.normal(size=300), np.random.normal(size=300))"
   ]
  },
  {
   "cell_type": "code",
   "execution_count": null,
   "metadata": {},
   "outputs": [],
   "source": [
    "# mas avanzado: la combinación de varios plots mediante la clase función subplots, que genera una figura y unos ejes \n",
    "# para cada subplot\n",
    "\n",
    "fig, axs= plt.subplots(nrows=2, ncols=2) # Se crea un grid para 2x2 plots"
   ]
  },
  {
   "cell_type": "code",
   "execution_count": null,
   "metadata": {},
   "outputs": [],
   "source": [
    "# cada eje es colocado en un array de ejes, por lo que cada uno puede ser  manipulado de forma individual\n",
    "print(axs)"
   ]
  },
  {
   "cell_type": "code",
   "execution_count": null,
   "metadata": {},
   "outputs": [],
   "source": [
    "fig, axs= plt.subplots(nrows=2, ncols=2) # Se crea un grid para 2x2 plots\n",
    "axs[0][0].hist(np.random.normal(loc=1., scale=2, size=10000), bins=30, alpha=0.4, density=True,color='b')\n",
    "axs[0][1].hist(np.random.normal(loc=5., scale=2, size=10000), bins=30, alpha=0.4, density=True,color='r')\n",
    "axs[1][0].hist(np.random.normal(loc=7., scale=3, size=10000), bins=30, alpha=0.4, density=True,color='g')\n",
    "axs[1][1].hist(np.random.normal(loc=0., scale=1, size=10000), bins=30, alpha=0.4, density=True,color='y')\n",
    "pass"
   ]
  },
  {
   "cell_type": "markdown",
   "metadata": {},
   "source": [
    "# Pandas\n",
    "\n",
    "Pandas es una librería que permite manipular los datos de manera sencilla. El tipo de variables que maneja pandas se conoce como `dataframes`, similares a hojas de excel."
   ]
  },
  {
   "cell_type": "code",
   "execution_count": null,
   "metadata": {},
   "outputs": [],
   "source": [
    "# Como siempre, cargamos primero la librería\n",
    "import pandas as pd"
   ]
  },
  {
   "cell_type": "code",
   "execution_count": null,
   "metadata": {},
   "outputs": [],
   "source": [
    "from sklearn.datasets import load_breast_cancer\n",
    "breast_cancer = load_breast_cancer()"
   ]
  },
  {
   "cell_type": "code",
   "execution_count": null,
   "metadata": {},
   "outputs": [],
   "source": [
    "X=np.concatenate((breast_cancer['data'],breast_cancer['target'].reshape(-1,1)), axis=1)"
   ]
  },
  {
   "cell_type": "code",
   "execution_count": null,
   "metadata": {},
   "outputs": [],
   "source": [
    "col_names=np.concatenate((breast_cancer['feature_names'],np.array(['benign'])))"
   ]
  },
  {
   "cell_type": "code",
   "execution_count": null,
   "metadata": {},
   "outputs": [],
   "source": [
    "data=pd.DataFrame(data=X, columns=col_names)"
   ]
  },
  {
   "cell_type": "code",
   "execution_count": null,
   "metadata": {},
   "outputs": [],
   "source": [
    "#Con el método head, podemos mirar las primeras líneas\n",
    "data.head(3)"
   ]
  },
  {
   "cell_type": "code",
   "execution_count": null,
   "metadata": {},
   "outputs": [],
   "source": [
    "#Con el método tail, podemos mirar las últimas líneas\n",
    "data.tail(3)"
   ]
  },
  {
   "cell_type": "code",
   "execution_count": null,
   "metadata": {},
   "outputs": [],
   "source": [
    "# En machine learning, ya sea clasificación o regresión, tenemos uno datos X que sirven como inputs, \n",
    "# y una variable 'y' que queremos predecir\n",
    "y = data['benign']\n",
    "X = data.drop('benign', axis=1)"
   ]
  },
  {
   "cell_type": "code",
   "execution_count": null,
   "metadata": {},
   "outputs": [],
   "source": [
    "X.head(3)"
   ]
  },
  {
   "cell_type": "markdown",
   "metadata": {},
   "source": [
    "## Inspección de los datos"
   ]
  },
  {
   "cell_type": "code",
   "execution_count": null,
   "metadata": {},
   "outputs": [],
   "source": [
    "# El método info permite conocer el tipo de variable en cada columna y el númerode NaNs\n",
    "data.info()"
   ]
  },
  {
   "cell_type": "code",
   "execution_count": null,
   "metadata": {},
   "outputs": [],
   "source": [
    "# El método describe nos muestra la estadística descriptiva de cada columna\n",
    "data.describe()"
   ]
  },
  {
   "cell_type": "markdown",
   "metadata": {},
   "source": [
    "## Operaciones sobre los datos"
   ]
  },
  {
   "cell_type": "code",
   "execution_count": null,
   "metadata": {},
   "outputs": [],
   "source": [
    "#Coger sólo las 8 primeras filas\n",
    "subset_data = data[:8].copy()#copy para crear una copia"
   ]
  },
  {
   "cell_type": "code",
   "execution_count": null,
   "metadata": {},
   "outputs": [],
   "source": [
    "subset_data['mean radius']"
   ]
  },
  {
   "cell_type": "code",
   "execution_count": null,
   "metadata": {},
   "outputs": [],
   "source": [
    "# Los data frames se pueden siempre convertir a numpy.array usando .values\n",
    "subset_data['mean radius'].values"
   ]
  },
  {
   "cell_type": "code",
   "execution_count": null,
   "metadata": {},
   "outputs": [],
   "source": [
    "subset_data.values"
   ]
  },
  {
   "cell_type": "code",
   "execution_count": null,
   "metadata": {},
   "outputs": [],
   "source": [
    "subset_data['worst area'][:5]"
   ]
  },
  {
   "cell_type": "markdown",
   "metadata": {},
   "source": [
    "### Seleccionar por indice: iloc"
   ]
  },
  {
   "cell_type": "code",
   "execution_count": null,
   "metadata": {},
   "outputs": [],
   "source": [
    "# Seleccionar por numero: iloc\n",
    "subset_data.iloc[[0, 4, 7], 2:7]"
   ]
  },
  {
   "cell_type": "code",
   "execution_count": null,
   "metadata": {},
   "outputs": [],
   "source": [
    "subset_data.iloc[:3, [10,12,17]]"
   ]
  },
  {
   "cell_type": "markdown",
   "metadata": {},
   "source": [
    "### Seleccionar por nombre: loc"
   ]
  },
  {
   "cell_type": "code",
   "execution_count": null,
   "metadata": {},
   "outputs": [],
   "source": [
    "# indexing with named labels - loc\n",
    "subset_data.loc[:, ['mean compactness', 'mean symmetry']]"
   ]
  },
  {
   "cell_type": "code",
   "execution_count": null,
   "metadata": {},
   "outputs": [],
   "source": [
    "# Atajo de lo anterior\n",
    "subset_data[['mean compactness', 'mean symmetry']]"
   ]
  },
  {
   "cell_type": "code",
   "execution_count": null,
   "metadata": {},
   "outputs": [],
   "source": [
    "# Recordemos la forma [start:end:step] para iterar\n",
    "subset_data.iloc[::3, ::-5]"
   ]
  },
  {
   "cell_type": "code",
   "execution_count": null,
   "metadata": {},
   "outputs": [],
   "source": [
    "subset_data.columns"
   ]
  },
  {
   "cell_type": "code",
   "execution_count": null,
   "metadata": {},
   "outputs": [],
   "source": [
    "# Se pueden añadir nuevas variables de la siguiente forma\n",
    "subset_data['area_onesigma'] = subset_data['mean area'] + subset_data['area error']\n",
    "subset_data['area_onesigma']"
   ]
  },
  {
   "cell_type": "code",
   "execution_count": null,
   "metadata": {},
   "outputs": [],
   "source": [
    "# Filtrar data bajo una condicion\n",
    "filtered_data = data[data['mean radius']>25]\n",
    "filtered_data"
   ]
  },
  {
   "cell_type": "code",
   "execution_count": null,
   "metadata": {},
   "outputs": [],
   "source": [
    "# A veces es importante comprobar el tamaño de los data frames, así como ver los nombres de las columnas\n",
    "print(len(data))\n",
    "print(data.shape) \n",
    "print(data.columns)"
   ]
  },
  {
   "cell_type": "code",
   "execution_count": null,
   "metadata": {},
   "outputs": [],
   "source": [
    "plt.scatter(X['mean radius'], X['mean texture'], c=y, alpha=0.4)\n",
    "plt.colorbar()"
   ]
  },
  {
   "cell_type": "markdown",
   "metadata": {},
   "source": [
    "##  Pequeño ejercicio\n",
    "\n",
    "- En la data anterior (data), para todas las variables que empiezan con mean ( las primeras diez variables) mostrad en el mismo plot un histograma para el tumor benigno y otro maligno. Usad 20 bins para la visualización. ¿Qué variables creéis que tendrán el mayor poder discriminatorio? "
   ]
  },
  {
   "cell_type": "code",
   "execution_count": null,
   "metadata": {},
   "outputs": [],
   "source": [
    "#Tu código"
   ]
  },
  {
   "cell_type": "markdown",
   "metadata": {},
   "source": [
    "# Referencias\n",
    "1. [matplotlib gallery](http://matplotlib.org/gallery.html)\n",
    "2. [10 minutes to pandas](http://pandas.pydata.org/pandas-docs/stable/10min.html)\n",
    "\n",
    "**Cualquier duda que tengáis estará ya seguro resuelta en stackoverflow**"
   ]
  }
 ],
 "metadata": {
  "kernelspec": {
   "display_name": "Python 2",
   "language": "python",
   "name": "python2"
  },
  "language_info": {
   "codemirror_mode": {
    "name": "ipython",
    "version": 2
   },
   "file_extension": ".py",
   "mimetype": "text/x-python",
   "name": "python",
   "nbconvert_exporter": "python",
   "pygments_lexer": "ipython2",
   "version": "2.7.15"
  }
 },
 "nbformat": 4,
 "nbformat_minor": 2
}
