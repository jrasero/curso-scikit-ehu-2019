{
 "cells": [
  {
   "cell_type": "markdown",
   "metadata": {},
   "source": [
    "# En este notebook vamos a hacer un ejercicio de regresión usando una dataset de longley, que se sabe que la data es muy colineal"
   ]
  },
  {
   "cell_type": "markdown",
   "metadata": {},
   "source": [
    "**Importa las siguientes librerías : numpy (como np), pandas (como pd) y matplotlib.pyplot ( como plt)**"
   ]
  },
  {
   "cell_type": "code",
   "execution_count": null,
   "metadata": {},
   "outputs": [],
   "source": [
    "import numpy as np\n",
    "import pandas as pd\n",
    "import matplotlib.pylab as plt"
   ]
  },
  {
   "cell_type": "markdown",
   "metadata": {},
   "source": [
    "**Lee la dataset que viene con este notebook y cárgalo como un dataframe. Llama \"longley_df\" al dataframe**"
   ]
  },
  {
   "cell_type": "code",
   "execution_count": null,
   "metadata": {},
   "outputs": [],
   "source": [
    "longley_df = pd.read_csv('https://raw.githubusercontent.com/jrasero/curso-scikit-ehu-2019/master/datasets/longley.csv')"
   ]
  },
  {
   "cell_type": "markdown",
   "metadata": {},
   "source": [
    "## Vamos a recordar un poco las herramientas aprendidas el otro día."
   ]
  },
  {
   "cell_type": "markdown",
   "metadata": {},
   "source": [
    "**Usa un método de pandas para mostrar información sobre el tipo de variable y el numero de no nulos de la data**"
   ]
  },
  {
   "cell_type": "code",
   "execution_count": null,
   "metadata": {},
   "outputs": [],
   "source": [
    "longley_df.info()"
   ]
  },
  {
   "cell_type": "markdown",
   "metadata": {},
   "source": [
    "**Usa un método de pandas para mostrar la estadística descritiva de cada variable de los datos**\n",
    "    "
   ]
  },
  {
   "cell_type": "code",
   "execution_count": null,
   "metadata": {},
   "outputs": [],
   "source": [
    "longley_df.describe()"
   ]
  },
  {
   "cell_type": "markdown",
   "metadata": {},
   "source": [
    "**Mediante un loop, muestra el valor medio de cada variable (columna). Para ello, tendrás que utilizar alguno de los métodos de pandas para seleccionar columnas y después aplicar la media mediante una función que se encuentra en la librería numpy. Comprueba que coincide con el valor que muestra en la celda anterior sobre la estadística descriptiva. (NOTA: Puede ser también útil acceder a los nombres de las columnas, mediante el uso del método `columns` que tienen los dataframes de pandas)**"
   ]
  },
  {
   "cell_type": "code",
   "execution_count": null,
   "metadata": {},
   "outputs": [],
   "source": [
    "for col in longley_df.columns:\n",
    "    print( \"la media de la variable \", col, \" es igual a= \", np.mean(longley_df.loc[:,col]))"
   ]
  },
  {
   "cell_type": "markdown",
   "metadata": {},
   "source": [
    "**Mediante un loop y usando la librería matplotlib, plotea cada una de las primeras diez variables con respecto la última, llamada \"Employed\"**"
   ]
  },
  {
   "cell_type": "code",
   "execution_count": null,
   "metadata": {},
   "outputs": [],
   "source": [
    "for col in longley_df.columns[0:6]:\n",
    "    plt.figure()\n",
    "    a = longley_df.loc[:, col].values\n",
    "    b = longley_df.loc[:, 'Employed'].values\n",
    "    plt.scatter(a,b)"
   ]
  },
  {
   "cell_type": "markdown",
   "metadata": {},
   "source": [
    "## Regresión  de la variable *GNP.deflector*"
   ]
  },
  {
   "cell_type": "markdown",
   "metadata": {},
   "source": [
    "**Crea un dataframe con el 70% de las primeras observaciones y otro con el 30% restante. Llama al primero \"train_df\" y al segundo \"test_df\". (Ayuda = Igual necesitas convertir el número de observaciones que vais a coger a tipo entero. Para ello, usa la function `int`, nativa de python**"
   ]
  },
  {
   "cell_type": "code",
   "execution_count": null,
   "metadata": {},
   "outputs": [],
   "source": [
    "train_df = longley_df.iloc[:int(0.7*longley_df.shape[0]),:]\n",
    "test_df = longley_df.iloc[int(0.7*longley_df.shape[0]):,:]"
   ]
  },
  {
   "cell_type": "markdown",
   "metadata": {},
   "source": [
    "**A su vez, coge las primeras diez columnas de los anteriores dataframes definidos y crea un array de numpy a partir de ellos con los nombres \"X_train\" y \"X_test\". Asimismo, crea otro array de numpy para las dos dataframes \"train_df\" y \"test_df\" con unicamente la columna \"GNP.deflector\". Llama a estos objetos \"y_train\" e \"y_test\" respectivamete**"
   ]
  },
  {
   "cell_type": "code",
   "execution_count": null,
   "metadata": {},
   "outputs": [],
   "source": [
    "X_train=train_df.drop(columns=[\"GNP.deflator\"]).values\n",
    "X_test=test_df.drop(columns=[\"GNP.deflator\"]).values\n",
    "y_train= train_df['GNP.deflator'].values\n",
    "y_test= test_df['GNP.deflator'].values"
   ]
  },
  {
   "cell_type": "markdown",
   "metadata": {},
   "source": [
    "**carga el métodos de regresión linear_regression de scikit**"
   ]
  },
  {
   "cell_type": "code",
   "execution_count": null,
   "metadata": {},
   "outputs": [],
   "source": [
    "from sklearn.linear_model import LinearRegression"
   ]
  },
  {
   "cell_type": "markdown",
   "metadata": {},
   "source": [
    "**Carga a su vez el módulo de scikit `metrics`, que lo usaremos para medir el rendimiento de los métodos de regresión recién importados**"
   ]
  },
  {
   "cell_type": "code",
   "execution_count": null,
   "metadata": {},
   "outputs": [],
   "source": [
    "from sklearn import metrics"
   ]
  },
  {
   "cell_type": "markdown",
   "metadata": {},
   "source": [
    "**Reporta el error medio cuadrado del ajuste para \"X\" e \"y\" usando el método de regresión lineal anteriormente cargado**"
   ]
  },
  {
   "cell_type": "code",
   "execution_count": null,
   "metadata": {},
   "outputs": [],
   "source": [
    "clf=LinearRegression(normalize=True)\n",
    "clf.fit(X_train,y_train)\n",
    "print(metrics.mean_squared_error(y_test,clf.predict(X_test)))"
   ]
  },
  {
   "cell_type": "markdown",
   "metadata": {},
   "source": [
    "**Reporta el error medio cuadrado del ajuste para \"X\" e \"y\" usando como método de regresión `Ridge`. Reporta a su vez eso para diferentes valores entre 0.001 y 1000 del coeficiente de regularización ( *alpha* en la función `Ridge` de scikit). Puedes hacer un plot de dicha variación, por ejemplo**"
   ]
  },
  {
   "cell_type": "code",
   "execution_count": null,
   "metadata": {},
   "outputs": [],
   "source": [
    "from sklearn.linear_model import Ridge\n",
    "\n",
    "alphas=10.0**np.arange(-3,3,0.5)\n",
    "list_metrics=[]\n",
    "for alpha in alphas:\n",
    "    clf=Ridge(alpha=alpha)\n",
    "    clf.fit(X_train,y_train)\n",
    "    list_metrics.append(metrics.mean_squared_error(y_test,\n",
    "                                                   clf.predict(X_test)))\n",
    "\n",
    "plt.plot(list_metrics)"
   ]
  },
  {
   "cell_type": "markdown",
   "metadata": {},
   "source": [
    "**Repite el ajuste usando el modelo lineal simple pero ahora quitando las columnas *GNP*, *Population* y *Year*. ¿Mejora o disminuye la predicción?**"
   ]
  },
  {
   "cell_type": "code",
   "execution_count": null,
   "metadata": {},
   "outputs": [],
   "source": [
    "X_train=train_df.drop(columns=[\"GNP\", \"Population\",\"Year\",\"GNP.deflator\"]).values\n",
    "X_test=test_df.drop(columns=[\"GNP\", \"Population\",\"Year\",\"GNP.deflator\"]).values\n",
    "y_train= train_df['GNP.deflator'].values\n",
    "y_test= test_df['GNP.deflator'].values"
   ]
  },
  {
   "cell_type": "code",
   "execution_count": null,
   "metadata": {},
   "outputs": [],
   "source": [
    "clf=LinearRegression()\n",
    "clf.fit(X_train,y_train)\n",
    "print(metrics.mean_squared_error(y_test,clf.predict(X_test)))"
   ]
  },
  {
   "cell_type": "code",
   "execution_count": null,
   "metadata": {},
   "outputs": [],
   "source": [
    "# La data está muy correlacionada\n",
    "longley_df.drop(columns=[\"GNP.deflator\"]).corr()"
   ]
  }
 ],
 "metadata": {
  "kernelspec": {
   "display_name": "Python 2",
   "language": "python",
   "name": "python2"
  },
  "language_info": {
   "codemirror_mode": {
    "name": "ipython",
    "version": 2
   },
   "file_extension": ".py",
   "mimetype": "text/x-python",
   "name": "python",
   "nbconvert_exporter": "python",
   "pygments_lexer": "ipython2",
   "version": "2.7.15"
  }
 },
 "nbformat": 4,
 "nbformat_minor": 2
}
