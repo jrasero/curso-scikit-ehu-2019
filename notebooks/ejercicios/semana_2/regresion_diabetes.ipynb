{
 "cells": [
  {
   "cell_type": "markdown",
   "metadata": {},
   "source": [
    "# En este notebook vamos a hacer un ejercicio de regresión usando una dataset de diabetes"
   ]
  },
  {
   "cell_type": "markdown",
   "metadata": {},
   "source": [
    "**Importa las siguientes librerías : numpy (como np), pandas (como pd) y matplotlib.pyplot> ( como plt)**"
   ]
  },
  {
   "cell_type": "code",
   "execution_count": null,
   "metadata": {},
   "outputs": [],
   "source": [
    "#tu código"
   ]
  },
  {
   "cell_type": "markdown",
   "metadata": {},
   "source": [
    "**Baja la dataset que viene con este notebook y lee este archivo de datos usando pandas, definiendo una dataframe a partir de estos datos llámandolo \"diabetes_df\"**"
   ]
  },
  {
   "cell_type": "code",
   "execution_count": null,
   "metadata": {},
   "outputs": [],
   "source": [
    "#tu código"
   ]
  },
  {
   "cell_type": "markdown",
   "metadata": {},
   "source": [
    "### Vamos a recordar un poco las herramientas aprendidas el otro día."
   ]
  },
  {
   "cell_type": "markdown",
   "metadata": {},
   "source": [
    "**Usa un método de pandas para mostrar información sobre el tipo de variable y el numero de no nulos de la data**"
   ]
  },
  {
   "cell_type": "code",
   "execution_count": null,
   "metadata": {},
   "outputs": [],
   "source": [
    "#tu código"
   ]
  },
  {
   "cell_type": "markdown",
   "metadata": {},
   "source": [
    "**Usa un método de pandas para mostrar información estadística que resuma la estadística descriptiva de cada variable de los datos**\n",
    "    "
   ]
  },
  {
   "cell_type": "code",
   "execution_count": null,
   "metadata": {},
   "outputs": [],
   "source": [
    "#tu código"
   ]
  },
  {
   "cell_type": "markdown",
   "metadata": {},
   "source": [
    "**Mediante un loop, muestra el valor medio de cada variable (columna). Para ello, tendrás que utilizar alguno de los métodos de pandas para seleccionar columnas y después aplicar la media mediante una función que se encuentra en la librería numpy. Comprueba que coincide con el valor que muestra en la celda anterior sobre la estadística descriptiva. (NOTA: Puede ser también útil acceder a los nombres de las columnas, mediante el uso del método `columns` que tienen los dataframes de pandas)**"
   ]
  },
  {
   "cell_type": "code",
   "execution_count": null,
   "metadata": {},
   "outputs": [],
   "source": [
    "#tu código"
   ]
  },
  {
   "cell_type": "markdown",
   "metadata": {},
   "source": [
    "**Mediante un loop y usando la librería matplotlib, plotea cada una de las diez primeras variables con respecto la última, llamada progression**"
   ]
  },
  {
   "cell_type": "code",
   "execution_count": null,
   "metadata": {},
   "outputs": [],
   "source": [
    "#tu código"
   ]
  },
  {
   "cell_type": "markdown",
   "metadata": {},
   "source": [
    "**Crea un dataframe con el 70% de las primeras observaciones y otro con el 30% restante. Llama al primero \"train_df\" y al segundo \"test_df\". (Ayuda = Igual necesitas convertir el número que de observaciones que vas a coger a tipo entero. Para ello, usad la function `int`, nativa de python**"
   ]
  },
  {
   "cell_type": "code",
   "execution_count": 3,
   "metadata": {},
   "outputs": [],
   "source": [
    "#tu código"
   ]
  },
  {
   "cell_type": "markdown",
   "metadata": {},
   "source": [
    "**A su vez, coge las primeras diez columnas y crea para ambas datasets un array de numpy con los nombres \"X_train\" y \"X_test\". Asimismo, crea otro array de numpy para las dos datasets con unicamente la columna \"progresión\". Llama a estos objetos \"y_train\" e \"y_test\" respectivamete. (NOTA: Acuérdate de pasar lo pedido a objetos de numpy mediante el método \"values\" .**"
   ]
  },
  {
   "cell_type": "code",
   "execution_count": 4,
   "metadata": {},
   "outputs": [],
   "source": [
    "#tu código"
   ]
  },
  {
   "cell_type": "markdown",
   "metadata": {},
   "source": [
    "## regresión univariada"
   ]
  },
  {
   "cell_type": "markdown",
   "metadata": {},
   "source": [
    "**Primero, carga los métodos de regresión linear_regression, lasso, Ridge y ElasticNet de scikit**"
   ]
  },
  {
   "cell_type": "code",
   "execution_count": null,
   "metadata": {},
   "outputs": [],
   "source": [
    "#tu código"
   ]
  },
  {
   "cell_type": "markdown",
   "metadata": {},
   "source": [
    "**Carga a su vez el módulo de scikit `metrics`, que lo usaremos para medir el rendimiento de los métodos de regresión recién importados**"
   ]
  },
  {
   "cell_type": "code",
   "execution_count": 5,
   "metadata": {},
   "outputs": [],
   "source": [
    "#tu código"
   ]
  },
  {
   "cell_type": "markdown",
   "metadata": {},
   "source": [
    "**Encuentra el rendimiento de cada variable de manera individual para predecir la variable progression. Para ello, ajusta el modelo usando X_train e y_train, para posteriormente, predecir en los datos X_test. Compara el resultado predicho con el real y_test mediante el uso de las métricas aprendidas. Haz\n",
    "esto sólo para la regresión lineal sin regularización, i.e., la función que acabamos de cargar `LinearRegression()` (Ayuda: acuérdate de que X tiene que ser siempre una matriz, aunque sólo tengamos una variable. Quizá en algún momento debes usar la función`reshape` con argumentos (-1,1) de numpy)** "
   ]
  },
  {
   "cell_type": "code",
   "execution_count": 6,
   "metadata": {},
   "outputs": [],
   "source": [
    "#tu código"
   ]
  },
  {
   "cell_type": "markdown",
   "metadata": {},
   "source": [
    "**Haz para cada variable un scatter plot ploteando los valores predichos frente a los reales**"
   ]
  },
  {
   "cell_type": "code",
   "execution_count": null,
   "metadata": {},
   "outputs": [],
   "source": [
    "#tu código"
   ]
  },
  {
   "cell_type": "markdown",
   "metadata": {},
   "source": [
    "**Usa la función `corrcoef` de numpy para cuantificar la similaridad entre la predicción y los valores reales. Si tienes alguna duda de cómo usar dicha función, abre el menú de ayuda usando `help` o `??`.**"
   ]
  },
  {
   "cell_type": "code",
   "execution_count": 1,
   "metadata": {},
   "outputs": [],
   "source": [
    "#tu código"
   ]
  },
  {
   "cell_type": "markdown",
   "metadata": {},
   "source": [
    "**Usando todas las variables, compara el rendimiento entre los cuatro algoritmos importados**"
   ]
  },
  {
   "cell_type": "code",
   "execution_count": 2,
   "metadata": {},
   "outputs": [],
   "source": [
    "#tu código"
   ]
  },
  {
   "cell_type": "markdown",
   "metadata": {},
   "source": [
    "**Haz lo mismo de antes, pero haciendo la optimización mediante gradiente descendiente. Obtienes el mismo rendimiento?**"
   ]
  },
  {
   "cell_type": "code",
   "execution_count": 3,
   "metadata": {},
   "outputs": [],
   "source": [
    "#tu código"
   ]
  }
 ],
 "metadata": {
  "kernelspec": {
   "display_name": "Python 2",
   "language": "python",
   "name": "python2"
  },
  "language_info": {
   "codemirror_mode": {
    "name": "ipython",
    "version": 2
   },
   "file_extension": ".py",
   "mimetype": "text/x-python",
   "name": "python",
   "nbconvert_exporter": "python",
   "pygments_lexer": "ipython2",
   "version": "2.7.15"
  }
 },
 "nbformat": 4,
 "nbformat_minor": 2
}
