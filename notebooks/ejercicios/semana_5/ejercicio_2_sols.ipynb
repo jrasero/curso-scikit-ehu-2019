{
 "cells": [
  {
   "cell_type": "markdown",
   "metadata": {},
   "source": [
    "**Carga las tres librerías de siempre**"
   ]
  },
  {
   "cell_type": "code",
   "execution_count": null,
   "metadata": {},
   "outputs": [],
   "source": [
    "import numpy as np\n",
    "import pandas as pd\n",
    "import matplotlib.pylab as plt"
   ]
  },
  {
   "cell_type": "markdown",
   "metadata": {},
   "source": [
    "**Scikit tiene una dataset de digitos, dentro del módulo datasets. Importa la clase necesaria para poder cargar la dataset y definid un objeto llamado `data_digits` a partir de ella. Entra en la documentación de scikit para poder encontrar la clase necesaria http://scikit-learn.org/stable/datasets/index.html#datasets**"
   ]
  },
  {
   "cell_type": "code",
   "execution_count": null,
   "metadata": {},
   "outputs": [],
   "source": [
    "from sklearn.datasets import load_digits\n",
    "data_digits = load_digits()"
   ]
  },
  {
   "cell_type": "markdown",
   "metadata": {},
   "source": [
    "**Crea una matriz de features X y un array y con el target. Cuando cargas los datos usando la clase del apartado anterior, lo que estas creando es un diccionario, donde una entrada es `data`, que contiene las features, y otra entrada llamada `target`, a partir de la cual podréis crear el array y de targets**"
   ]
  },
  {
   "cell_type": "code",
   "execution_count": null,
   "metadata": {},
   "outputs": [],
   "source": [
    "X = data_digits['data']\n",
    "y = data_digits['target']"
   ]
  },
  {
   "cell_type": "markdown",
   "metadata": {},
   "source": [
    "**Otro de los elementos de la dataset cargada, es una entrada con el nombre `images`, que contine las imágenes 8x8 de los digitos en escala de grises. De hecho, los features no son más que estos 8x8 pixels. Las imagenes corresponden a representanciones diferentes de 10 dígitos, desde el 0 al 9. Usando matplotlib, plotea 10 imagenes de cada dígito. Puedes usar la función `imshow` pasándole las imágenes y una paleta plt.cm.gray_r, pasando esto al argumento `cmap` de la función `imshow` . Si tienes alguna duda sobre cómo usar dicha función, puedes mirar en https://matplotlib.org/api/_as_gen/matplotlib.pyplot.imshow.html . Ayuda: basta con que plotees las diez primeras imágenes**"
   ]
  },
  {
   "cell_type": "code",
   "execution_count": null,
   "metadata": {},
   "outputs": [],
   "source": [
    "fig, axs = plt.subplots(ncols=10, nrows=1)\n",
    "axs = axs.flatten()\n",
    "\n",
    "for i in range(10):\n",
    "    axs[i].imshow(data_digits['images'][i,:,:], cmap=plt.cm.gray_r)\n",
    "    axs[i].axis('off')"
   ]
  },
  {
   "cell_type": "markdown",
   "metadata": {},
   "source": [
    "**Vamos a hacer una pca sobre estos datos. Como los datos tienen que estar estandarizados, importa la clase que hace esto en scikit y transforma los datos**"
   ]
  },
  {
   "cell_type": "code",
   "execution_count": null,
   "metadata": {},
   "outputs": [],
   "source": [
    "from sklearn.preprocessing import StandardScaler\n",
    "ss = StandardScaler()\n",
    "X_scaled = ss.fit_transform(X) "
   ]
  },
  {
   "cell_type": "markdown",
   "metadata": {},
   "source": [
    "**Importa la clase de PCA**"
   ]
  },
  {
   "cell_type": "code",
   "execution_count": null,
   "metadata": {},
   "outputs": [],
   "source": [
    "from sklearn.decomposition import PCA"
   ]
  },
  {
   "cell_type": "markdown",
   "metadata": {},
   "source": [
    "**Define una variable del objeto  PCA, que explique al menos el 75 % de variación de los datos**"
   ]
  },
  {
   "cell_type": "code",
   "execution_count": null,
   "metadata": {},
   "outputs": [],
   "source": [
    "pca = PCA(n_components=0.75)"
   ]
  },
  {
   "cell_type": "markdown",
   "metadata": {},
   "source": [
    "**Usa este objeto recién creado para ajustarlo a los datos estandarizados**"
   ]
  },
  {
   "cell_type": "code",
   "execution_count": null,
   "metadata": {},
   "outputs": [],
   "source": [
    "pca.fit(X_scaled)"
   ]
  },
  {
   "cell_type": "markdown",
   "metadata": {},
   "source": [
    "**Muestra el número de componentes principales seleccionadas por la pca**"
   ]
  },
  {
   "cell_type": "code",
   "execution_count": null,
   "metadata": {},
   "outputs": [],
   "source": [
    "print(pca.n_components_)"
   ]
  },
  {
   "cell_type": "markdown",
   "metadata": {},
   "source": [
    "**Muestra en un plot usando la función `plot` de matplotlib cómo la variación explicada va aumentando hasta llegar a la cantidad requerida cuando hemos definido la pca. Para ello, después de fittear la pca, tienes que acceder a su atributo *explained_variance_ratio__* (con una sola barra baja al final) y usar sobre esto la función `cumsum` de numpy**"
   ]
  },
  {
   "cell_type": "code",
   "execution_count": null,
   "metadata": {},
   "outputs": [],
   "source": [
    "plt.plot(np.arange(1,pca.n_components_+1),\n",
    "         np.cumsum(pca.explained_variance_ratio_))\n",
    "\n",
    "plt.xticks(np.arange(1,pca.n_components_+1))\n",
    "\n",
    "pass"
   ]
  },
  {
   "cell_type": "markdown",
   "metadata": {},
   "source": [
    "**Transforma los datos al espacio de las componentes principales. Para ello, una vez fitteada la pca, tienes que usar el método `transform` sobre los datos estandarizados**"
   ]
  },
  {
   "cell_type": "code",
   "execution_count": null,
   "metadata": {},
   "outputs": [],
   "source": [
    "X_pca = pca.transform(X_scaled)"
   ]
  },
  {
   "cell_type": "markdown",
   "metadata": {},
   "source": [
    "**Muestra el tamaño de los datos transformados y ve que en efecto, el número de features ahora se ha reducido al número de componentes seleccionadas por la pca** "
   ]
  },
  {
   "cell_type": "code",
   "execution_count": null,
   "metadata": {},
   "outputs": [],
   "source": [
    "X_pca.shape"
   ]
  },
  {
   "cell_type": "markdown",
   "metadata": {},
   "source": [
    "**Los datos transformados, devuelvelos al espacio original. Para ello, vas a tener que llamar al método `inverse_transform` tanto de la pca primero, como del objeto que estandarizaba los datos después**"
   ]
  },
  {
   "cell_type": "code",
   "execution_count": null,
   "metadata": {},
   "outputs": [],
   "source": [
    "X_rec = pca.inverse_transform(X_pca)\n",
    "X_rec = ss.inverse_transform(X_rec)"
   ]
  },
  {
   "cell_type": "markdown",
   "metadata": {},
   "source": [
    "**Una vez hecho esto, vuelve a plotear las imágenes de los dígitos que has ploteado antes, pero ahora usando los datos reconstruidos que hemos obtenido en el apartado anterior**"
   ]
  },
  {
   "cell_type": "code",
   "execution_count": null,
   "metadata": {},
   "outputs": [],
   "source": [
    "fig, axs = plt.subplots(ncols=10, nrows=1)\n",
    "axs = axs.flatten()\n",
    "for i in range(10):\n",
    "    \n",
    "    axs[i].imshow(X_rec[i,:].reshape(8,8), cmap=plt.cm.gray_r)\n",
    "    axs[i].axis('off')"
   ]
  },
  {
   "cell_type": "markdown",
   "metadata": {},
   "source": [
    " **Extra: Intenta lo mismo usando la dataset de olivetti faces, que la puedes descargar usando la clase `fetch_olivetti_faces` en el módulo datasets de scikit. De esta manera, puedes ver cómo cambian las caras originales respecto a las reconstruidas por la pca**"
   ]
  },
  {
   "cell_type": "code",
   "execution_count": null,
   "metadata": {},
   "outputs": [],
   "source": [
    "from sklearn.datasets import fetch_olivetti_faces\n",
    "data_faces= fetch_olivetti_faces()"
   ]
  },
  {
   "cell_type": "code",
   "execution_count": null,
   "metadata": {},
   "outputs": [],
   "source": [
    "# Pedimos el 75% de la variación explicada, como antes\n",
    "pca= PCA(n_components=0.75,random_state=0) \n",
    "pca.fit(data_faces['data'])"
   ]
  },
  {
   "cell_type": "code",
   "execution_count": null,
   "metadata": {},
   "outputs": [],
   "source": [
    "# El número de componentes principales para el 75% es\n",
    "pca.n_components_"
   ]
  },
  {
   "cell_type": "code",
   "execution_count": null,
   "metadata": {},
   "outputs": [],
   "source": [
    "# Transformamos la data original al espacio de las features\n",
    "faces_tr =  pca.fit_transform(data_faces['data'])"
   ]
  },
  {
   "cell_type": "code",
   "execution_count": null,
   "metadata": {},
   "outputs": [],
   "source": [
    "# Y reconstruimos estos datos al espacio original.\n",
    "faces_inv = pca.inverse_transform(faces_tr)"
   ]
  },
  {
   "cell_type": "code",
   "execution_count": null,
   "metadata": {},
   "outputs": [],
   "source": [
    "# Una cara de los datos originales\n",
    "plt.imshow(data_faces['data'][10,:].reshape(64,64), cmap=plt.cm.gray)"
   ]
  },
  {
   "cell_type": "code",
   "execution_count": null,
   "metadata": {},
   "outputs": [],
   "source": [
    "# La misma cara de los datos reconstruidos por la pca\n",
    "plt.imshow(faces_inv[10,:].reshape(64,64), cmap=plt.cm.gray)"
   ]
  }
 ],
 "metadata": {
  "kernelspec": {
   "display_name": "Python 2",
   "language": "python",
   "name": "python2"
  },
  "language_info": {
   "codemirror_mode": {
    "name": "ipython",
    "version": 2
   },
   "file_extension": ".py",
   "mimetype": "text/x-python",
   "name": "python",
   "nbconvert_exporter": "python",
   "pygments_lexer": "ipython2",
   "version": "2.7.15"
  }
 },
 "nbformat": 4,
 "nbformat_minor": 2
}
