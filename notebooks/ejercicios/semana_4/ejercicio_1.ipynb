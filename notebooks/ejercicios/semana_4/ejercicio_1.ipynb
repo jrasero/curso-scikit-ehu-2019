{
 "cells": [
  {
   "cell_type": "markdown",
   "metadata": {},
   "source": [
    "**Carga las librerías de numpy, pandas y matplotlib con el nombre de siempre**"
   ]
  },
  {
   "cell_type": "code",
   "execution_count": null,
   "metadata": {},
   "outputs": [],
   "source": [
    "#Tu código"
   ]
  },
  {
   "cell_type": "markdown",
   "metadata": {},
   "source": [
    "**Lee la data  de este notebook, cargándolo como un data frame de pandas. Ajusta el argumento na_values='?' y header=None**"
   ]
  },
  {
   "cell_type": "code",
   "execution_count": null,
   "metadata": {},
   "outputs": [],
   "source": [
    "#Tu código"
   ]
  },
  {
   "cell_type": "markdown",
   "metadata": {},
   "source": [
    "**Reescribe el nombre de las columnas a:'age', 'sex', 'cp','trestbps','chol','fbs','restecg','thalach','exang','oldpeak','slope','ca','thal','diagnosis'**"
   ]
  },
  {
   "cell_type": "code",
   "execution_count": null,
   "metadata": {},
   "outputs": [],
   "source": [
    "#Tu código"
   ]
  },
  {
   "cell_type": "markdown",
   "metadata": {},
   "source": [
    "**Crea una matriz numpy de features llamada X y un array numpy de targets llamado y**"
   ]
  },
  {
   "cell_type": "code",
   "execution_count": null,
   "metadata": {},
   "outputs": [],
   "source": [
    "#Tu código"
   ]
  },
  {
   "cell_type": "markdown",
   "metadata": {},
   "source": [
    "**Como puedes ver, el vector `y` contiene los valores del target, pero éstos están en tipo texto. Scikit solo trabaja con datos numéricos. Por tanto, redefine el vector `y`, convirtiendo estos targets no numéricos a numéricos usando la clase `LabelEncoder`, que como vimos, se encuentra en el módulo `preprocessing` de scikit**"
   ]
  },
  {
   "cell_type": "code",
   "execution_count": null,
   "metadata": {},
   "outputs": [],
   "source": [
    "#Tu código"
   ]
  },
  {
   "cell_type": "markdown",
   "metadata": {},
   "source": [
    "**Nuestra dataset contiene variables categóricas, tienen NaNs y además posee muchas features. Por tanto, crea un pipeline que implemente los siguientes pasos:**\n",
    "\n",
    "1. **Imputación de los NaNs de tal forma que sustituya los NaNs en cada columna por la mediana**\n",
    "2. **Ortogonalización de las variables categóricas de tal forma que cada categoría sea una columna nueva. Las variables categóricas son: \"sex\", \"cp\", \"fbs\", \"restecg\", \"exang\", \"slope\", \"ca\" y \"thal\"**\n",
    "3. **Reescalar el rango de los datos a un rango [0,1]**\n",
    "4. **Una feature selection que seleccione los mejores features a partir de un árbol de decisión**"
   ]
  },
  {
   "cell_type": "code",
   "execution_count": null,
   "metadata": {},
   "outputs": [],
   "source": [
    "#Tu código"
   ]
  },
  {
   "cell_type": "markdown",
   "metadata": {},
   "source": [
    "**Comprueba que ha funcionado haciendo un `fit_transform` sobre X e y. Muestra el output y el tamaño de los datos transformados**"
   ]
  },
  {
   "cell_type": "code",
   "execution_count": null,
   "metadata": {},
   "outputs": [],
   "source": [
    "#Tu código"
   ]
  },
  {
   "cell_type": "markdown",
   "metadata": {},
   "source": [
    "**Vuelve a definir el mismo pipeline de antes, pero incorporando ahora un clasificador a tus gusto**"
   ]
  },
  {
   "cell_type": "code",
   "execution_count": null,
   "metadata": {},
   "outputs": [],
   "source": [
    "#Tu código"
   ]
  },
  {
   "cell_type": "markdown",
   "metadata": {},
   "source": [
    "**Crea una partición de los datos y evalua la performance del modelo usando el pipeline anterior**"
   ]
  },
  {
   "cell_type": "code",
   "execution_count": null,
   "metadata": {},
   "outputs": [],
   "source": [
    "#Tu código"
   ]
  },
  {
   "cell_type": "markdown",
   "metadata": {},
   "source": [
    "**Ahora evalua el modelo mediante la técnia de cross-validation. Puedes elegir el esquema que quieras, por ejemplo, un 10-fold cross-validation**"
   ]
  },
  {
   "cell_type": "code",
   "execution_count": null,
   "metadata": {},
   "outputs": [],
   "source": [
    "#Tu código"
   ]
  },
  {
   "cell_type": "markdown",
   "metadata": {},
   "source": [
    "**Seguramente, el rendimiento obtenido se pueda mejorar cambiando los hiperparámetros del clasificador y el threshold del feature selection. Mira esto sobre la partición X_train, X_test, y_train, y_test de antes, usando la clase `GridSearchCV` o `RandomSearchCV` para diferentes valores de los hiperparámetros del clasificador y thresholds de la feature selection. Cuidado con el grid que definas y el número de folds que uses, ya que puede hacer el problema muy time-consuming**"
   ]
  },
  {
   "cell_type": "code",
   "execution_count": null,
   "metadata": {},
   "outputs": [],
   "source": [
    "#Tu código"
   ]
  },
  {
   "cell_type": "markdown",
   "metadata": {},
   "source": [
    "**Ahora, mete esto dentro dentro un cross-validation y calcula la performance**"
   ]
  },
  {
   "cell_type": "code",
   "execution_count": null,
   "metadata": {},
   "outputs": [],
   "source": [
    "#Tu código"
   ]
  },
  {
   "cell_type": "markdown",
   "metadata": {},
   "source": [
    "**Extra: Repite lo mismo de antes con diferentes clasificadores, para que podamos hacernos una idea de cuál es el mejor**"
   ]
  },
  {
   "cell_type": "code",
   "execution_count": null,
   "metadata": {},
   "outputs": [],
   "source": [
    "#Tu código"
   ]
  }
 ],
 "metadata": {
  "kernelspec": {
   "display_name": "Python 2",
   "language": "python",
   "name": "python2"
  },
  "language_info": {
   "codemirror_mode": {
    "name": "ipython",
    "version": 2
   },
   "file_extension": ".py",
   "mimetype": "text/x-python",
   "name": "python",
   "nbconvert_exporter": "python",
   "pygments_lexer": "ipython2",
   "version": "2.7.15"
  }
 },
 "nbformat": 4,
 "nbformat_minor": 2
}
